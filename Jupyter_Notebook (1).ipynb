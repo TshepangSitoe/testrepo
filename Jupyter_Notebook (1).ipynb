{
 "cells": [
  {
   "cell_type": "markdown",
   "metadata": {},
   "source": [
    "<center>\n",
    "    <img src=\"https://s3-api.us-geo.objectstorage.softlayer.net/cf-courses-data/CognitiveClass/Logos/organization_logo/organization_logo.png\" width=\"300\" alt=\"cognitiveclass.ai logo\"  />\n",
    "</center>\n"
   ]
  },
  {
   "cell_type": "markdown",
   "metadata": {},
   "source": [
    "#### Add your code below following the instructions given in the course\n"
   ]
  },
  {
   "cell_type": "markdown",
   "metadata": {},
   "source": [
    "| Name | surname | grade |\n",
    "| ---- | ------- | ------|\n",
    "| fiso |   kazi  |  10   |\n",
    "| ---- | ------- | ------|\n",
    "| tito |   zi  |  9   |\n",
    "| ---- | ------- | ------|\n",
    "| tiko |   mzi  |  6  |"
   ]
  },
  {
   "cell_type": "markdown",
   "metadata": {},
   "source": [
    "| Name | surname | grade |\n",
    "| ---- | ------- | ------|\n",
    "| fiso |   kazi  |  10   |\n",
    "| ---- | ------- | ------|\n",
    "| tito |   zi  |  9   |\n",
    "| ---- | ------- | ------|\n",
    "| tiko |   mzi  |  6  |"
   ]
  },
  {
   "cell_type": "markdown",
   "metadata": {},
   "source": [
    "# My Jupyter Notebook on IBM Watson Studio"
   ]
  },
  {
   "cell_type": "markdown",
   "metadata": {},
   "source": [
    "# __Tshepang Sitoe__ \n",
    "# Data scientist"
   ]
  },
  {
   "cell_type": "markdown",
   "metadata": {},
   "source": [
    "# _I am interested in data science because it is one of my primary goals to engage in a professional career in data science_"
   ]
  },
  {
   "cell_type": "markdown",
   "metadata": {},
   "source": [
    "### My code converts a list into a tuple"
   ]
  },
  {
   "cell_type": "code",
   "execution_count": 2,
   "metadata": {},
   "outputs": [
    {
     "data": {
      "text/plain": [
       "(1, 2, 3)"
      ]
     },
     "execution_count": 2,
     "metadata": {},
     "output_type": "execute_result"
    }
   ],
   "source": [
    "def convert(list):\n",
    "    \"this function converts a list to a tuple\"\n",
    "    return tuple(list)\n",
    "\n",
    "list = [1,2,3]\n",
    "\n",
    "convert(list)"
   ]
  },
  {
   "cell_type": "markdown",
   "metadata": {},
   "source": [
    "# <font color=red> text examples </font>\n",
    "##  _A falling object encounters a <font color = yellow> moving </font> platform accelerating upwards:_\n",
    "* _1)Object_ \n",
    "* **2) Platform**\n",
    " * > us together\n",
    "* why me\n",
    "*$\\lambda$\n",
    "> <font color=green> this is just an average text about learning python and this journey </font>\n",
    "1. object\n",
    "2. money\n",
    "![uj-logo.jpg](attachment:uj-logo.jpg)\n",
    "[click here for google](https://www.google.com/)"
   ]
  },
  {
   "cell_type": "code",
   "execution_count": null,
   "metadata": {},
   "outputs": [],
   "source": []
  }
 ],
 "metadata": {
  "kernelspec": {
   "display_name": "Python",
   "language": "python",
   "name": "conda-env-python-py"
  },
  "language_info": {
   "codemirror_mode": {
    "name": "ipython",
    "version": 3
   },
   "file_extension": ".py",
   "mimetype": "text/x-python",
   "name": "python",
   "nbconvert_exporter": "python",
   "pygments_lexer": "ipython3",
   "version": "3.7.12"
  }
 },
 "nbformat": 4,
 "nbformat_minor": 4
}
